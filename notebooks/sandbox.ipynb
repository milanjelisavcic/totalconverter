{
 "cells": [
  {
   "cell_type": "markdown",
   "id": "7031ad10",
   "metadata": {},
   "source": [
    "## Import DOCX file"
   ]
  },
  {
   "cell_type": "code",
   "execution_count": null,
   "id": "a04d039e",
   "metadata": {},
   "outputs": [],
   "source": []
  }
 ],
 "metadata": {
  "kernelspec": {
   "display_name": "Python [conda env:bankstack] *",
   "language": "python",
   "name": "conda-env-bankstack-py"
  },
  "language_info": {
   "codemirror_mode": {
    "name": "ipython",
    "version": 3
   },
   "file_extension": ".py",
   "mimetype": "text/x-python",
   "name": "python",
   "nbconvert_exporter": "python",
   "pygments_lexer": "ipython3",
   "version": "3.7.10"
  }
 },
 "nbformat": 4,
 "nbformat_minor": 5
}
